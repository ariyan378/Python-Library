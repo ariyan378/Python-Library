{
 "cells": [
  {
   "cell_type": "markdown",
   "metadata": {},
   "source": [
    "START"
   ]
  },
  {
   "cell_type": "code",
   "execution_count": 30,
   "metadata": {},
   "outputs": [],
   "source": [
    "import pandas as pd\n"
   ]
  },
  {
   "cell_type": "code",
   "execution_count": 31,
   "metadata": {},
   "outputs": [],
   "source": [
    "data = pd.read_csv(r\"D:\\Numpy Folder\\sample_csv.csv\")"
   ]
  },
  {
   "cell_type": "code",
   "execution_count": 32,
   "metadata": {},
   "outputs": [
    {
     "data": {
      "text/html": [
       "<div>\n",
       "<style scoped>\n",
       "    .dataframe tbody tr th:only-of-type {\n",
       "        vertical-align: middle;\n",
       "    }\n",
       "\n",
       "    .dataframe tbody tr th {\n",
       "        vertical-align: top;\n",
       "    }\n",
       "\n",
       "    .dataframe thead th {\n",
       "        text-align: right;\n",
       "    }\n",
       "</style>\n",
       "<table border=\"1\" class=\"dataframe\">\n",
       "  <thead>\n",
       "    <tr style=\"text-align: right;\">\n",
       "      <th></th>\n",
       "      <th>Index</th>\n",
       "      <th>Name</th>\n",
       "      <th>Age</th>\n",
       "      <th>City</th>\n",
       "      <th>Country</th>\n",
       "      <th>Occupation</th>\n",
       "      <th>Salary</th>\n",
       "      <th>Is_Married</th>\n",
       "      <th>Last_Visit</th>\n",
       "      <th>Rating</th>\n",
       "    </tr>\n",
       "  </thead>\n",
       "  <tbody>\n",
       "    <tr>\n",
       "      <th>0</th>\n",
       "      <td>1</td>\n",
       "      <td>John Smith</td>\n",
       "      <td>34</td>\n",
       "      <td>New York</td>\n",
       "      <td>USA</td>\n",
       "      <td>Engineer</td>\n",
       "      <td>75000</td>\n",
       "      <td>True</td>\n",
       "      <td>2024-01-15</td>\n",
       "      <td>4.5</td>\n",
       "    </tr>\n",
       "    <tr>\n",
       "      <th>1</th>\n",
       "      <td>2</td>\n",
       "      <td>Alice Johnson</td>\n",
       "      <td>28</td>\n",
       "      <td>London</td>\n",
       "      <td>UK</td>\n",
       "      <td>Teacher</td>\n",
       "      <td>45000</td>\n",
       "      <td>False</td>\n",
       "      <td>2023-11-20</td>\n",
       "      <td>3.8</td>\n",
       "    </tr>\n",
       "    <tr>\n",
       "      <th>2</th>\n",
       "      <td>3</td>\n",
       "      <td>Bob Williams</td>\n",
       "      <td>45</td>\n",
       "      <td>Paris</td>\n",
       "      <td>France</td>\n",
       "      <td>Doctor</td>\n",
       "      <td>120000</td>\n",
       "      <td>True</td>\n",
       "      <td>2024-02-01</td>\n",
       "      <td>4.9</td>\n",
       "    </tr>\n",
       "    <tr>\n",
       "      <th>3</th>\n",
       "      <td>4</td>\n",
       "      <td>Emily Brown</td>\n",
       "      <td>22</td>\n",
       "      <td>Sydney</td>\n",
       "      <td>Australia</td>\n",
       "      <td>Student</td>\n",
       "      <td>0</td>\n",
       "      <td>False</td>\n",
       "      <td>2024-03-10</td>\n",
       "      <td>4.2</td>\n",
       "    </tr>\n",
       "    <tr>\n",
       "      <th>4</th>\n",
       "      <td>5</td>\n",
       "      <td>David Jones</td>\n",
       "      <td>51</td>\n",
       "      <td>Tokyo</td>\n",
       "      <td>Japan</td>\n",
       "      <td>Manager</td>\n",
       "      <td>90000</td>\n",
       "      <td>True</td>\n",
       "      <td>2023-12-05</td>\n",
       "      <td>4.0</td>\n",
       "    </tr>\n",
       "    <tr>\n",
       "      <th>5</th>\n",
       "      <td>6</td>\n",
       "      <td>Sophia Garcia</td>\n",
       "      <td>39</td>\n",
       "      <td>Madrid</td>\n",
       "      <td>Spain</td>\n",
       "      <td>Artist</td>\n",
       "      <td>60000</td>\n",
       "      <td>False</td>\n",
       "      <td>2024-01-25</td>\n",
       "      <td>3.5</td>\n",
       "    </tr>\n",
       "    <tr>\n",
       "      <th>6</th>\n",
       "      <td>7</td>\n",
       "      <td>Michael Rodriguez</td>\n",
       "      <td>29</td>\n",
       "      <td>Toronto</td>\n",
       "      <td>Canada</td>\n",
       "      <td>Programmer</td>\n",
       "      <td>80000</td>\n",
       "      <td>True</td>\n",
       "      <td>2024-02-15</td>\n",
       "      <td>4.7</td>\n",
       "    </tr>\n",
       "    <tr>\n",
       "      <th>7</th>\n",
       "      <td>8</td>\n",
       "      <td>Olivia Martinez</td>\n",
       "      <td>62</td>\n",
       "      <td>Rome</td>\n",
       "      <td>Italy</td>\n",
       "      <td>Retired</td>\n",
       "      <td>25000</td>\n",
       "      <td>True</td>\n",
       "      <td>2023-10-30</td>\n",
       "      <td>4.1</td>\n",
       "    </tr>\n",
       "    <tr>\n",
       "      <th>8</th>\n",
       "      <td>9</td>\n",
       "      <td>Daniel Anderson</td>\n",
       "      <td>31</td>\n",
       "      <td>Berlin</td>\n",
       "      <td>Germany</td>\n",
       "      <td>Salesperson</td>\n",
       "      <td>55000</td>\n",
       "      <td>False</td>\n",
       "      <td>2024-03-01</td>\n",
       "      <td>3.9</td>\n",
       "    </tr>\n",
       "    <tr>\n",
       "      <th>9</th>\n",
       "      <td>10</td>\n",
       "      <td>Isabella Thomas</td>\n",
       "      <td>25</td>\n",
       "      <td>Mexico City</td>\n",
       "      <td>Mexico</td>\n",
       "      <td>Accountant</td>\n",
       "      <td>50000</td>\n",
       "      <td>False</td>\n",
       "      <td>2024-02-28</td>\n",
       "      <td>4.3</td>\n",
       "    </tr>\n",
       "  </tbody>\n",
       "</table>\n",
       "</div>"
      ],
      "text/plain": [
       "   Index               Name  Age         City    Country   Occupation  Salary  \\\n",
       "0      1         John Smith   34     New York        USA     Engineer   75000   \n",
       "1      2      Alice Johnson   28       London         UK      Teacher   45000   \n",
       "2      3       Bob Williams   45        Paris     France       Doctor  120000   \n",
       "3      4        Emily Brown   22       Sydney  Australia      Student       0   \n",
       "4      5        David Jones   51        Tokyo      Japan      Manager   90000   \n",
       "5      6      Sophia Garcia   39       Madrid      Spain       Artist   60000   \n",
       "6      7  Michael Rodriguez   29      Toronto     Canada   Programmer   80000   \n",
       "7      8    Olivia Martinez   62         Rome      Italy      Retired   25000   \n",
       "8      9    Daniel Anderson   31       Berlin    Germany  Salesperson   55000   \n",
       "9     10    Isabella Thomas   25  Mexico City     Mexico   Accountant   50000   \n",
       "\n",
       "   Is_Married  Last_Visit  Rating  \n",
       "0        True  2024-01-15     4.5  \n",
       "1       False  2023-11-20     3.8  \n",
       "2        True  2024-02-01     4.9  \n",
       "3       False  2024-03-10     4.2  \n",
       "4        True  2023-12-05     4.0  \n",
       "5       False  2024-01-25     3.5  \n",
       "6        True  2024-02-15     4.7  \n",
       "7        True  2023-10-30     4.1  \n",
       "8       False  2024-03-01     3.9  \n",
       "9       False  2024-02-28     4.3  "
      ]
     },
     "execution_count": 32,
     "metadata": {},
     "output_type": "execute_result"
    }
   ],
   "source": [
    "data"
   ]
  },
  {
   "cell_type": "code",
   "execution_count": 33,
   "metadata": {},
   "outputs": [
    {
     "name": "stdout",
     "output_type": "stream",
     "text": [
      "[ 1  2  3  4  5  6  7  8  9 10]\n"
     ]
    }
   ],
   "source": [
    "#1d array\n",
    "\n",
    "import numpy as np\n",
    "\n",
    "arr = np.array([1,2,3,4,5,6,7,8,9,10])\n",
    "\n",
    "print(arr)"
   ]
  },
  {
   "cell_type": "code",
   "execution_count": 34,
   "metadata": {},
   "outputs": [
    {
     "name": "stdout",
     "output_type": "stream",
     "text": [
      "[[1 2 3]\n",
      " [4 5 6]]\n"
     ]
    }
   ],
   "source": [
    "#2d array\n",
    "import numpy as np\n",
    "\n",
    "arr = np.array([[1,2,3],\n",
    "                [4,5,6]])\n",
    "\n",
    "print(arr)"
   ]
  },
  {
   "cell_type": "code",
   "execution_count": 35,
   "metadata": {},
   "outputs": [
    {
     "name": "stdout",
     "output_type": "stream",
     "text": [
      "[[1 2 3]\n",
      " [4 5 6]]\n"
     ]
    }
   ],
   "source": [
    "#matrix\n",
    "\n",
    "import numpy as np \n",
    "\n",
    "Matrix = np.array([[1,2,3],\n",
    "                [4,5,6]])\n",
    "\n",
    "print(Matrix)\n"
   ]
  },
  {
   "cell_type": "code",
   "execution_count": 36,
   "metadata": {},
   "outputs": [
    {
     "name": "stdout",
     "output_type": "stream",
     "text": [
      "[0. 0. 0. 0. 0.]\n"
     ]
    }
   ],
   "source": [
    "#zeros array\n",
    "\n",
    "import numpy as np\n",
    "\n",
    "zeros = np.zeros(5)\n",
    "\n",
    "print(zeros)"
   ]
  },
  {
   "cell_type": "code",
   "execution_count": 37,
   "metadata": {},
   "outputs": [
    {
     "name": "stdout",
     "output_type": "stream",
     "text": [
      "[[1. 1. 1.]\n",
      " [1. 1. 1.]\n",
      " [1. 1. 1.]]\n"
     ]
    }
   ],
   "source": [
    "#ones\n",
    "\n",
    "import numpy as np\n",
    "\n",
    "ones = np.ones((3,3))\n",
    "\n",
    "print(ones)"
   ]
  },
  {
   "cell_type": "code",
   "execution_count": 38,
   "metadata": {},
   "outputs": [
    {
     "name": "stdout",
     "output_type": "stream",
     "text": [
      "[['She' 'She' 'She' 'She' 'She']\n",
      " ['She' 'She' 'She' 'She' 'She']\n",
      " ['She' 'She' 'She' 'She' 'She']\n",
      " ['She' 'She' 'She' 'She' 'She']\n",
      " ['She' 'She' 'She' 'She' 'She']]\n"
     ]
    }
   ],
   "source": [
    "#full\n",
    "\n",
    "import numpy as np\n",
    "\n",
    "arr = np.full((5,5), 'She')\n",
    "\n",
    "print(arr)"
   ]
  },
  {
   "cell_type": "code",
   "execution_count": 39,
   "metadata": {},
   "outputs": [
    {
     "name": "stdout",
     "output_type": "stream",
     "text": [
      "[ 1  3  5  7  9 11 13 15 17 19 21 23 25 27 29 31 33 35 37 39 41 43 45 47\n",
      " 49 51 53 55 57 59 61 63 65 67 69 71 73 75 77 79 81 83 85 87 89 91 93 95\n",
      " 97 99]\n"
     ]
    }
   ],
   "source": [
    "#arange\n",
    "#creating sequence of number\n",
    "\n",
    "import numpy as np\n",
    "\n",
    "arr = np.arange(1,100,2)\n",
    "\n",
    "print(arr)"
   ]
  },
  {
   "cell_type": "code",
   "execution_count": 40,
   "metadata": {},
   "outputs": [
    {
     "name": "stdout",
     "output_type": "stream",
     "text": [
      "[[1. 0. 0. 0. 0.]\n",
      " [0. 1. 0. 0. 0.]\n",
      " [0. 0. 1. 0. 0.]\n",
      " [0. 0. 0. 1. 0.]\n",
      " [0. 0. 0. 0. 1.]]\n"
     ]
    }
   ],
   "source": [
    "#creating identity matrix\n",
    "#eye(size)\n",
    "\n",
    "import numpy as np\n",
    "\n",
    "arr  = np.eye(5)\n",
    "\n",
    "print(arr)"
   ]
  },
  {
   "cell_type": "code",
   "execution_count": 41,
   "metadata": {},
   "outputs": [
    {
     "name": "stdout",
     "output_type": "stream",
     "text": [
      "(5, 5)\n"
     ]
    }
   ],
   "source": [
    "#shape\n",
    "#number of row and column\n",
    "\n",
    "import numpy as np\n",
    "\n",
    "arr  = np.eye(5)\n",
    "\n",
    "print(arr.shape)\n"
   ]
  },
  {
   "cell_type": "code",
   "execution_count": 42,
   "metadata": {},
   "outputs": [
    {
     "name": "stdout",
     "output_type": "stream",
     "text": [
      "25\n"
     ]
    }
   ],
   "source": [
    "#size\n",
    "#give us the number of element\n",
    "\n",
    "\n",
    "import numpy as np\n",
    "\n",
    "arr  = np.eye(5)\n",
    "\n",
    "print(arr.size)"
   ]
  },
  {
   "cell_type": "code",
   "execution_count": 43,
   "metadata": {},
   "outputs": [
    {
     "name": "stdout",
     "output_type": "stream",
     "text": [
      "2\n",
      "int64\n"
     ]
    }
   ],
   "source": [
    "#Ndim number of dimenstion\n",
    "#dtype data type of element\n",
    "\n",
    "import numpy as np\n",
    "arr = np.array([[1,2,3,43],\n",
    "                [3,4,5,6]])\n",
    "\n",
    "print(arr.ndim)\n",
    "print(arr.dtype)"
   ]
  },
  {
   "cell_type": "code",
   "execution_count": 44,
   "metadata": {},
   "outputs": [
    {
     "name": "stdout",
     "output_type": "stream",
     "text": [
      "[[1 2 3]\n",
      " [4 5 6]]\n"
     ]
    }
   ],
   "source": [
    "#astype(type u want to convert)\n",
    "\n",
    "import numpy as np \n",
    "\n",
    "arr =  np.array([[1.1, 2.2 , 3.3],\n",
    "              [4.4,5.5,6.6]])\n",
    "\n",
    "print(arr.astype(int))"
   ]
  },
  {
   "cell_type": "code",
   "execution_count": 45,
   "metadata": {},
   "outputs": [
    {
     "name": "stdout",
     "output_type": "stream",
     "text": [
      "[[5. 0. 0. 0. 0.]\n",
      " [0. 5. 0. 0. 0.]\n",
      " [0. 0. 5. 0. 0.]\n",
      " [0. 0. 0. 5. 0.]\n",
      " [0. 0. 0. 0. 5.]]\n"
     ]
    }
   ],
   "source": [
    "#math operation\n",
    "\n",
    "import numpy as np\n",
    "\n",
    "arr = np.eye(5,5)\n",
    "\n",
    "print(arr *5)"
   ]
  },
  {
   "cell_type": "code",
   "execution_count": 46,
   "metadata": {},
   "outputs": [
    {
     "name": "stdout",
     "output_type": "stream",
     "text": [
      "595\n",
      "59.5\n",
      "100\n",
      "11\n",
      "30.137186331839274\n",
      "908.25\n"
     ]
    }
   ],
   "source": [
    "#mathematics\n",
    "\n",
    "\n",
    "import numpy as np\n",
    "\n",
    "\n",
    "\n",
    "arr = np.array([11,22,33,44,55,66,77,88,99,100])\n",
    "\n",
    "print(np.sum(arr))\n",
    "print(np.mean(arr))\n",
    "print(np.max(arr))\n",
    "print(np.min(arr))\n",
    "print(np.std(arr))\n",
    "print(np.var(arr))"
   ]
  },
  {
   "cell_type": "code",
   "execution_count": 47,
   "metadata": {},
   "outputs": [
    {
     "name": "stdout",
     "output_type": "stream",
     "text": [
      "8\n"
     ]
    }
   ],
   "source": [
    "#seeing single element\n",
    "#arr[index][row]\n",
    "\n",
    "import numpy as np\n",
    "\n",
    "arr = np.array([[1,2,3,4],\n",
    "       [5,6,7,8]])\n",
    "\n",
    "print(arr[1][3])"
   ]
  },
  {
   "cell_type": "code",
   "execution_count": 48,
   "metadata": {},
   "outputs": [
    {
     "name": "stdout",
     "output_type": "stream",
     "text": [
      "[2 4 6 8]\n",
      "[9 8 7 6 5 4 3 2 1]\n",
      "[1 2 3 4 5 6 7]\n"
     ]
    }
   ],
   "source": [
    "#start stop step\n",
    "import numpy as np\n",
    "\n",
    "arr = np.array([1,2,3,4,5,6,7,8,9])\n",
    "\n",
    "print(arr[1:-1:2])\n",
    "print(arr[::-1])\n",
    "print(arr[:7])#0 to 7 indes\n",
    "\n",
    "\n"
   ]
  },
  {
   "cell_type": "code",
   "execution_count": 49,
   "metadata": {},
   "outputs": [
    {
     "name": "stdout",
     "output_type": "stream",
     "text": [
      "[ 1  6 10]\n"
     ]
    }
   ],
   "source": [
    "#Fancy indexing\n",
    "# selecting multiple element at ones\n",
    "#arr[index number ]\n",
    "\n",
    "import numpy as np\n",
    "arr = np.array([1,2,3,4,5,6,7,8,9,10])\n",
    "\n",
    "print(arr[[0,5,9]])\n"
   ]
  },
  {
   "cell_type": "code",
   "execution_count": 50,
   "metadata": {},
   "outputs": [
    {
     "name": "stdout",
     "output_type": "stream",
     "text": [
      "[1 2 3 4 5 6 7 8 9]\n"
     ]
    }
   ],
   "source": [
    "#filtering data based on condition\n",
    "#gives us true or false\n",
    "#boolean masking\n",
    "\n",
    "import numpy as np\n",
    "\n",
    "arr = np.array([1,2,3,4,5,6,7,8,9])\n",
    "\n",
    "print(arr[arr <11])"
   ]
  },
  {
   "cell_type": "code",
   "execution_count": 1,
   "metadata": {},
   "outputs": [
    {
     "name": "stdout",
     "output_type": "stream",
     "text": [
      "[[ 1  2  3  4  5]\n",
      " [ 6  7  8  9 10]]\n"
     ]
    }
   ],
   "source": [
    "#reshape(row and columns)specify new shape if dimentions match\n",
    "\n",
    "import numpy as np \n",
    "\n",
    "arr = np.array([1,2,3,4,5,6,7,8,9,10])\n",
    "\n",
    "new = arr.reshape(2,5)\n",
    "\n",
    "print(new)"
   ]
  },
  {
   "cell_type": "code",
   "execution_count": 2,
   "metadata": {},
   "outputs": [
    {
     "name": "stdout",
     "output_type": "stream",
     "text": [
      "[ 1  2  3  4  5  6  7  8  9 10]\n",
      "[ 1  2  3  4  5  6  7  8  9 10]\n"
     ]
    }
   ],
   "source": [
    "#flating arrys\n",
    "#converting multidimention into 1d array\n",
    "#ravel()->views\n",
    "#flatten ->copy\n",
    "\n",
    "import numpy as np\n",
    "\n",
    "arr = np.array([[1,2,3,4,5],\n",
    "                [6,7,8,9,10]])\n",
    "\n",
    "print(arr.ravel())\n",
    "print(arr.flatten())"
   ]
  },
  {
   "cell_type": "code",
   "execution_count": 3,
   "metadata": {},
   "outputs": [
    {
     "name": "stdout",
     "output_type": "stream",
     "text": [
      "[ 1  2  3  4  5  6  7  8  9 10 11 12 13 14 15]\n"
     ]
    }
   ],
   "source": [
    "#inserting\n",
    "#insert(index)\n",
    "#np.insert(arrayName , index , value , asix = None)\n",
    "#axis = 0 ,row wise\n",
    "#  1 colmn wise\n",
    "\n",
    "import numpy as np\n",
    "\n",
    "arr = np.array([1,2,3,4,5,6,7,8,9,10])\n",
    "\n",
    "new = np.insert(arr , 10 , [11,12,13,14,15], axis = 0)\n",
    "\n",
    "print(new)\n",
    "\n",
    "\n",
    "\n"
   ]
  },
  {
   "cell_type": "code",
   "execution_count": 5,
   "metadata": {},
   "outputs": [
    {
     "name": "stdout",
     "output_type": "stream",
     "text": [
      "[[ 1  2  3  4  5 11]\n",
      " [ 6  7  8  9 10 12]]\n"
     ]
    }
   ],
   "source": [
    "#2d\n",
    "\n",
    "import numpy as np \n",
    "\n",
    "arr = np.array([[1,2,3,4,5],\n",
    "                [6,7,8,9,10]])\n",
    "\n",
    "new = np.insert(arr , 5 , [11,12], axis = 1 )\n",
    "\n",
    "print(new)"
   ]
  },
  {
   "cell_type": "code",
   "execution_count": 6,
   "metadata": {},
   "outputs": [
    {
     "name": "stdout",
     "output_type": "stream",
     "text": [
      "[ 1  2  3  4  5  6  7  8  9 10 11 22 23  2  4]\n"
     ]
    }
   ],
   "source": [
    "#apppend\n",
    "\n",
    "import numpy as np\n",
    "\n",
    "arr = np.array([1,2,3,4,5,6,7,8,9,10,11,22])\n",
    "new =  np.append(arr , [23,2,4])\n",
    "print(new)"
   ]
  },
  {
   "cell_type": "code",
   "execution_count": 7,
   "metadata": {},
   "outputs": [
    {
     "name": "stdout",
     "output_type": "stream",
     "text": [
      "[ 1  2  3  4  5  6  7  8  9 10]\n"
     ]
    }
   ],
   "source": [
    "#np.concatenate((arr1,arr2) , axis = 0 )\n",
    "# 0 = vertical stacking\n",
    "#1 means horizontal stacking\n",
    "\n",
    "import numpy as np \n",
    "arr1 = np.array ([1,2,3,4,5])\n",
    "arr2 = np.array([6,7,8,9,10])\n",
    "\n",
    "new_arr = np.concatenate((arr1 ,arr2))\n",
    "print(new_arr)"
   ]
  },
  {
   "cell_type": "code",
   "execution_count": 8,
   "metadata": {},
   "outputs": [
    {
     "name": "stdout",
     "output_type": "stream",
     "text": [
      "[[5 6 7 8]]\n"
     ]
    }
   ],
   "source": [
    "#np.delete(arr name , index , axis = none)\n",
    "\n",
    "import numpy as np\n",
    "\n",
    "arr = np.array([[1,2,3,4],\n",
    "       [5,6,7,8]])\n",
    "\n",
    "new = np.delete(arr,0 , axis = 0)\n",
    "print(new)\n"
   ]
  },
  {
   "cell_type": "code",
   "execution_count": 9,
   "metadata": {},
   "outputs": [
    {
     "name": "stdout",
     "output_type": "stream",
     "text": [
      "[[ 1  2  3  4  5]\n",
      " [ 6  7  8  9 10]]\n",
      "[ 1  2  3  4  5  6  7  8  9 10]\n"
     ]
    }
   ],
   "source": [
    "#stacking vstack = row , hstack = column\n",
    "\n",
    "import numpy as np \n",
    "arr1 = np.array ([1,2,3,4,5])\n",
    "arr2 = np.array([6,7,8,9,10])\n",
    "\n",
    "print(np.vstack((arr1,arr2)))\n",
    "print(np.hstack((arr1,arr2)))\n"
   ]
  },
  {
   "cell_type": "code",
   "execution_count": 13,
   "metadata": {},
   "outputs": [
    {
     "name": "stdout",
     "output_type": "stream",
     "text": [
      "[array([1, 2, 3]), array([4, 5, 6])]\n"
     ]
    }
   ],
   "source": [
    "#split\n",
    "#np.split()eqal\n",
    "#np.hsplit(, np.vsplit()\n",
    "\n",
    "import numpy as np \n",
    "arr1 = np.array ([1,2,3,4,5,6])\n",
    "\n",
    "print(np.split(arr1 ,2))"
   ]
  },
  {
   "cell_type": "code",
   "execution_count": 14,
   "metadata": {},
   "outputs": [
    {
     "name": "stdout",
     "output_type": "stream",
     "text": [
      "[array([[1, 2, 3, 4],\n",
      "       [5, 6, 7, 8]]), array([[ 9, 10, 11, 12],\n",
      "       [13, 14, 15, 16]])]\n"
     ]
    }
   ],
   "source": [
    "import numpy as np\n",
    "\n",
    "# Create a 4x4 array\n",
    "arr = np.array([[1, 2, 3, 4], \n",
    "                [5, 6, 7, 8], \n",
    "                [9, 10, 11, 12], \n",
    "                [13, 14, 15, 16]])\n",
    "\n",
    "# Split the array into 2 equal parts (2 rows each)\n",
    "split_arrays = np.vsplit(arr, 2)\n",
    "\n",
    "print(split_arrays)"
   ]
  },
  {
   "cell_type": "code",
   "execution_count": 15,
   "metadata": {},
   "outputs": [
    {
     "name": "stdout",
     "output_type": "stream",
     "text": [
      "[ 93. 186. 279. 372. 465. 558.]\n"
     ]
    }
   ],
   "source": [
    "#boardcasting\n",
    "\n",
    "import numpy as np \n",
    "arr1 = np.array ([100,200,300,400,500,600])\n",
    "discount = 7 \n",
    "\n",
    "price = arr1 - (arr1 *discount /100)\n",
    "\n",
    "print(price)\n"
   ]
  },
  {
   "cell_type": "code",
   "execution_count": 16,
   "metadata": {},
   "outputs": [
    {
     "name": "stdout",
     "output_type": "stream",
     "text": [
      "[[ 8 10 12 14]\n",
      " [12 14 16 18]]\n"
     ]
    }
   ],
   "source": [
    "import numpy as np\n",
    "\n",
    "arr = np.array([[1,2,3,4],\n",
    "       [5,6,7,8]])\n",
    "\n",
    "vector  = np.array([7,8,9,10])\n",
    "\n",
    "result = arr + vector\n",
    "print(result)"
   ]
  }
 ],
 "metadata": {
  "kernelspec": {
   "display_name": "Python 3",
   "language": "python",
   "name": "python3"
  },
  "language_info": {
   "codemirror_mode": {
    "name": "ipython",
    "version": 3
   },
   "file_extension": ".py",
   "mimetype": "text/x-python",
   "name": "python",
   "nbconvert_exporter": "python",
   "pygments_lexer": "ipython3",
   "version": "3.13.0"
  }
 },
 "nbformat": 4,
 "nbformat_minor": 2
}
